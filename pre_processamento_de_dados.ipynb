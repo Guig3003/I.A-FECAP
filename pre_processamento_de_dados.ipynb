{
  "nbformat": 4,
  "nbformat_minor": 0,
  "metadata": {
    "colab": {
      "name": "pre processamento de dados",
      "provenance": []
    },
    "kernelspec": {
      "name": "python3",
      "display_name": "Python 3"
    },
    "language_info": {
      "name": "python"
    }
  },
  "cells": [
    {
      "cell_type": "code",
      "metadata": {
        "id": "awFhNSRFSIN_"
      },
      "source": [
        "import panda as pd"
      ],
      "execution_count": null,
      "outputs": []
    },
    {
      "cell_type": "code",
      "metadata": {
        "id": "FY_MS2jcP01L"
      },
      "source": [
        "dic = {'nome':['Isa','Peter','Rico'],\n",
        "       'idade':['19','28','0'],\n",
        "       'salario':['19000','5000','100'],\n",
        "       'genero':['F','M','honda4porta'],\n",
        "       'cargo':['genero','supervisor','' ]}"
      ],
      "execution_count": 9,
      "outputs": []
    },
    {
      "cell_type": "code",
      "metadata": {
        "id": "ri5fSQEVUZ9x"
      },
      "source": [
        ""
      ],
      "execution_count": null,
      "outputs": []
    },
    {
      "cell_type": "code",
      "metadata": {
        "id": "oeh470XcUP07"
      },
      "source": [
        ""
      ],
      "execution_count": null,
      "outputs": []
    }
  ]
}